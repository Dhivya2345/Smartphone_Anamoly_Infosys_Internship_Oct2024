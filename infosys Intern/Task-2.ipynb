{
 "cells": [
  {
   "cell_type": "markdown",
   "id": "2303406f",
   "metadata": {},
   "source": [
    "# Load the Dataset"
   ]
  },
  {
   "cell_type": "code",
   "execution_count": 1,
   "id": "1110d51b",
   "metadata": {},
   "outputs": [
    {
     "data": {
      "text/html": [
       "<div>\n",
       "<style scoped>\n",
       "    .dataframe tbody tr th:only-of-type {\n",
       "        vertical-align: middle;\n",
       "    }\n",
       "\n",
       "    .dataframe tbody tr th {\n",
       "        vertical-align: top;\n",
       "    }\n",
       "\n",
       "    .dataframe thead th {\n",
       "        text-align: right;\n",
       "    }\n",
       "</style>\n",
       "<table border=\"1\" class=\"dataframe\">\n",
       "  <thead>\n",
       "    <tr style=\"text-align: right;\">\n",
       "      <th></th>\n",
       "      <th>Longitude</th>\n",
       "      <th>Latitude</th>\n",
       "      <th>Speed</th>\n",
       "      <th>Distance</th>\n",
       "      <th>Time</th>\n",
       "      <th>Acc X</th>\n",
       "      <th>Acc Y</th>\n",
       "      <th>Acc Z</th>\n",
       "      <th>Heading</th>\n",
       "      <th>gyro_x</th>\n",
       "      <th>gyro_y</th>\n",
       "      <th>gyro_z</th>\n",
       "      <th>label</th>\n",
       "    </tr>\n",
       "  </thead>\n",
       "  <tbody>\n",
       "    <tr>\n",
       "      <th>0</th>\n",
       "      <td>73.822661</td>\n",
       "      <td>18.501627</td>\n",
       "      <td>0.0</td>\n",
       "      <td>0.0</td>\n",
       "      <td>18-45-12</td>\n",
       "      <td>0.046402</td>\n",
       "      <td>-0.137178</td>\n",
       "      <td>-0.282934</td>\n",
       "      <td>352.0</td>\n",
       "      <td>-0.036306</td>\n",
       "      <td>-0.008226</td>\n",
       "      <td>-0.023416</td>\n",
       "      <td>0</td>\n",
       "    </tr>\n",
       "    <tr>\n",
       "      <th>1</th>\n",
       "      <td>73.822661</td>\n",
       "      <td>18.501627</td>\n",
       "      <td>0.0</td>\n",
       "      <td>0.0</td>\n",
       "      <td>18-45-12</td>\n",
       "      <td>-0.136978</td>\n",
       "      <td>0.365242</td>\n",
       "      <td>0.108889</td>\n",
       "      <td>352.0</td>\n",
       "      <td>0.035776</td>\n",
       "      <td>-0.009448</td>\n",
       "      <td>0.009570</td>\n",
       "      <td>0</td>\n",
       "    </tr>\n",
       "    <tr>\n",
       "      <th>2</th>\n",
       "      <td>73.822661</td>\n",
       "      <td>18.501627</td>\n",
       "      <td>0.0</td>\n",
       "      <td>0.0</td>\n",
       "      <td>18-45-13</td>\n",
       "      <td>-0.045355</td>\n",
       "      <td>-0.103340</td>\n",
       "      <td>-0.534985</td>\n",
       "      <td>352.0</td>\n",
       "      <td>-0.011871</td>\n",
       "      <td>-0.027774</td>\n",
       "      <td>0.003462</td>\n",
       "      <td>0</td>\n",
       "    </tr>\n",
       "    <tr>\n",
       "      <th>3</th>\n",
       "      <td>73.822661</td>\n",
       "      <td>18.501627</td>\n",
       "      <td>0.0</td>\n",
       "      <td>0.0</td>\n",
       "      <td>18-45-13</td>\n",
       "      <td>0.242089</td>\n",
       "      <td>0.072761</td>\n",
       "      <td>-0.350396</td>\n",
       "      <td>352.0</td>\n",
       "      <td>-0.017980</td>\n",
       "      <td>0.002769</td>\n",
       "      <td>-0.005091</td>\n",
       "      <td>0</td>\n",
       "    </tr>\n",
       "    <tr>\n",
       "      <th>4</th>\n",
       "      <td>73.822661</td>\n",
       "      <td>18.501627</td>\n",
       "      <td>0.0</td>\n",
       "      <td>0.0</td>\n",
       "      <td>18-45-13</td>\n",
       "      <td>-0.230234</td>\n",
       "      <td>0.011765</td>\n",
       "      <td>-0.494085</td>\n",
       "      <td>352.0</td>\n",
       "      <td>0.011342</td>\n",
       "      <td>0.003380</td>\n",
       "      <td>0.006516</td>\n",
       "      <td>0</td>\n",
       "    </tr>\n",
       "  </tbody>\n",
       "</table>\n",
       "</div>"
      ],
      "text/plain": [
       "   Longitude   Latitude  Speed  Distance      Time     Acc X     Acc Y  \\\n",
       "0  73.822661  18.501627    0.0       0.0  18-45-12  0.046402 -0.137178   \n",
       "1  73.822661  18.501627    0.0       0.0  18-45-12 -0.136978  0.365242   \n",
       "2  73.822661  18.501627    0.0       0.0  18-45-13 -0.045355 -0.103340   \n",
       "3  73.822661  18.501627    0.0       0.0  18-45-13  0.242089  0.072761   \n",
       "4  73.822661  18.501627    0.0       0.0  18-45-13 -0.230234  0.011765   \n",
       "\n",
       "      Acc Z  Heading    gyro_x    gyro_y    gyro_z  label  \n",
       "0 -0.282934    352.0 -0.036306 -0.008226 -0.023416      0  \n",
       "1  0.108889    352.0  0.035776 -0.009448  0.009570      0  \n",
       "2 -0.534985    352.0 -0.011871 -0.027774  0.003462      0  \n",
       "3 -0.350396    352.0 -0.017980  0.002769 -0.005091      0  \n",
       "4 -0.494085    352.0  0.011342  0.003380  0.006516      0  "
      ]
     },
     "execution_count": 1,
     "metadata": {},
     "output_type": "execute_result"
    }
   ],
   "source": [
    "import pandas as pd\n",
    "\n",
    "data = pd.read_csv(\"C:\\\\Users\\\\kiran\\\\Desktop\\\\infosys Intern\\\\final_adjusted_crowd_dataset.csv\")\n",
    "\n",
    "# Display first few rows to understand the structure\n",
    "data.head()"
   ]
  },
  {
   "cell_type": "markdown",
   "id": "316bce98",
   "metadata": {},
   "source": [
    "# Define Sensor Columns and Calculate IQR"
   ]
  },
  {
   "cell_type": "code",
   "execution_count": 2,
   "id": "c05c12ba",
   "metadata": {},
   "outputs": [
    {
     "name": "stdout",
     "output_type": "stream",
     "text": [
      "IQR, Q1, and Q3 values for each sensor:\n",
      " {'Acc X': {'Q1': -0.37937883, 'Q3': 0.3624705, 'IQR': 0.74184933}, 'Acc Y': {'Q1': -0.12676811, 'Q3': 0.47869587, 'IQR': 0.60546398}, 'Acc Z': {'Q1': -0.7013532, 'Q3': 0.67468005, 'IQR': 1.3760332499999999}, 'gyro_x': {'Q1': -0.046690468, 'Q3': 0.04493932, 'IQR': 0.09162978799999999}, 'gyro_y': {'Q1': -0.033271793, 'Q3': 0.021706078, 'IQR': 0.054977871}, 'gyro_z': {'Q1': -0.027224237, 'Q3': 0.024088446, 'IQR': 0.051312683}}\n"
     ]
    }
   ],
   "source": [
    "# Define the sensor columns\n",
    "sensor_columns = ['Acc X', 'Acc Y', 'Acc Z', 'gyro_x', 'gyro_y', 'gyro_z']\n",
    "\n",
    "# Dictionary to store IQR, Q1, and Q3 for each sensor\n",
    "iqr_info = {}\n",
    "\n",
    "for col in sensor_columns:\n",
    "    Q1 = data[col].quantile(0.25)\n",
    "    Q3 = data[col].quantile(0.75)\n",
    "    IQR = Q3 - Q1\n",
    "    iqr_info[col] = {'Q1': Q1, 'Q3': Q3, 'IQR': IQR}\n",
    "    \n",
    "# Display IQR, Q1, and Q3 values for each sensor\n",
    "print(\"IQR, Q1, and Q3 values for each sensor:\\n\", iqr_info)\n"
   ]
  },
  {
   "cell_type": "markdown",
   "id": "24f134a6",
   "metadata": {},
   "source": [
    "# Detect Outliers and Flag Them"
   ]
  },
  {
   "cell_type": "code",
   "execution_count": 3,
   "id": "f29cc9a5",
   "metadata": {},
   "outputs": [
    {
     "data": {
      "text/html": [
       "<div>\n",
       "<style scoped>\n",
       "    .dataframe tbody tr th:only-of-type {\n",
       "        vertical-align: middle;\n",
       "    }\n",
       "\n",
       "    .dataframe tbody tr th {\n",
       "        vertical-align: top;\n",
       "    }\n",
       "\n",
       "    .dataframe thead th {\n",
       "        text-align: right;\n",
       "    }\n",
       "</style>\n",
       "<table border=\"1\" class=\"dataframe\">\n",
       "  <thead>\n",
       "    <tr style=\"text-align: right;\">\n",
       "      <th></th>\n",
       "      <th>Acc X</th>\n",
       "      <th>Acc Y</th>\n",
       "      <th>Acc Z</th>\n",
       "      <th>gyro_x</th>\n",
       "      <th>gyro_y</th>\n",
       "      <th>gyro_z</th>\n",
       "    </tr>\n",
       "  </thead>\n",
       "  <tbody>\n",
       "    <tr>\n",
       "      <th>0</th>\n",
       "      <td>0</td>\n",
       "      <td>0</td>\n",
       "      <td>0</td>\n",
       "      <td>0</td>\n",
       "      <td>0</td>\n",
       "      <td>0</td>\n",
       "    </tr>\n",
       "    <tr>\n",
       "      <th>1</th>\n",
       "      <td>0</td>\n",
       "      <td>0</td>\n",
       "      <td>0</td>\n",
       "      <td>0</td>\n",
       "      <td>0</td>\n",
       "      <td>0</td>\n",
       "    </tr>\n",
       "    <tr>\n",
       "      <th>2</th>\n",
       "      <td>0</td>\n",
       "      <td>0</td>\n",
       "      <td>0</td>\n",
       "      <td>0</td>\n",
       "      <td>0</td>\n",
       "      <td>0</td>\n",
       "    </tr>\n",
       "    <tr>\n",
       "      <th>3</th>\n",
       "      <td>0</td>\n",
       "      <td>0</td>\n",
       "      <td>0</td>\n",
       "      <td>0</td>\n",
       "      <td>0</td>\n",
       "      <td>0</td>\n",
       "    </tr>\n",
       "    <tr>\n",
       "      <th>4</th>\n",
       "      <td>0</td>\n",
       "      <td>0</td>\n",
       "      <td>0</td>\n",
       "      <td>0</td>\n",
       "      <td>0</td>\n",
       "      <td>0</td>\n",
       "    </tr>\n",
       "  </tbody>\n",
       "</table>\n",
       "</div>"
      ],
      "text/plain": [
       "   Acc X  Acc Y  Acc Z  gyro_x  gyro_y  gyro_z\n",
       "0      0      0      0       0       0       0\n",
       "1      0      0      0       0       0       0\n",
       "2      0      0      0       0       0       0\n",
       "3      0      0      0       0       0       0\n",
       "4      0      0      0       0       0       0"
      ]
     },
     "execution_count": 3,
     "metadata": {},
     "output_type": "execute_result"
    }
   ],
   "source": [
    "# Create a DataFrame to store outlier flags for each sensor\n",
    "outliers = pd.DataFrame(index=data.index)\n",
    "\n",
    "for col in sensor_columns:\n",
    "    Q1 = iqr_info[col]['Q1']\n",
    "    Q3 = iqr_info[col]['Q3']\n",
    "    IQR = iqr_info[col]['IQR']\n",
    "    \n",
    "    # Define outlier bounds\n",
    "    lower_bound = Q1 - 1.5 * IQR\n",
    "    upper_bound = Q3 + 1.5 * IQR\n",
    "    \n",
    "    # Flag as outlier (1) if value is outside bounds, otherwise 0\n",
    "    outliers[col] = ((data[col] < lower_bound) | (data[col] > upper_bound)).astype(int)\n",
    "\n",
    "# Display the first few rows of the outliers DataFrame\n",
    "outliers.head()\n"
   ]
  },
  {
   "cell_type": "markdown",
   "id": "1e999054",
   "metadata": {},
   "source": [
    "# Summarize Outlier Counts for Each Sensor"
   ]
  },
  {
   "cell_type": "code",
   "execution_count": 6,
   "id": "7bbaa326",
   "metadata": {},
   "outputs": [
    {
     "name": "stdout",
     "output_type": "stream",
     "text": [
      "Number of outliers detected for each sensor:\n",
      " Acc X     1669\n",
      "Acc Y     1633\n",
      "Acc Z     1333\n",
      "gyro_x    1804\n",
      "gyro_y    1823\n",
      "gyro_z    1482\n",
      "dtype: int64\n"
     ]
    }
   ],
   "source": [
    "# Count total outliers for each sensor\n",
    "outlier_counts = outliers.sum()\n",
    "print(\"Number of outliers detected for each sensor:\\n\", outlier_counts)"
   ]
  },
  {
   "cell_type": "code",
   "execution_count": 7,
   "id": "14c61cbf",
   "metadata": {},
   "outputs": [
    {
     "data": {
      "image/png": "[encoded data removed]",
      "text/plain": [
       "<Figure size 1500x1000 with 6 Axes>"
      ]
     },
     "metadata": {},
     "output_type": "display_data"
    }
   ],
   "source": [
    "import matplotlib.pyplot as plt\n",
    "import seaborn as sns\n",
    "\n",
    "# Set up the plotting style\n",
    "sns.set(style=\"whitegrid\")\n",
    "plt.figure(figsize=(15, 10))\n",
    "\n",
    "# Plot a box plot for each sensor column\n",
    "for i, col in enumerate(sensor_columns, 1):\n",
    "    plt.subplot(2, 3, i)  # Arrange plots in a 2x3 grid for 6 sensors\n",
    "    sns.boxplot(x=data[col])\n",
    "    plt.title(f\"{col} - Box Plot\")\n",
    "    plt.xlabel(\"Sensor Reading\")\n",
    "    \n",
    "plt.tight_layout()\n",
    "plt.show()\n"
   ]
  },
  {
   "cell_type": "markdown",
   "id": "c26a4674",
   "metadata": {},
   "source": [
    "# Analysis of Outliers"
   ]
  },
  {
   "cell_type": "code",
   "execution_count": 8,
   "id": "1d33b92b",
   "metadata": {},
   "outputs": [
    {
     "name": "stdout",
     "output_type": "stream",
     "text": [
      "Acc X: 11.71% of readings are outliers.\n",
      "Acc Y: 11.46% of readings are outliers.\n",
      "Acc Z: 9.36% of readings are outliers.\n",
      "gyro_x: 12.66% of readings are outliers.\n",
      "gyro_y: 12.79% of readings are outliers.\n",
      "gyro_z: 10.40% of readings are outliers.\n"
     ]
    }
   ],
   "source": [
    "# Calculate and print the percentage of outliers for each sensor\n",
    "outlier_summary = {col: (outliers[col].sum() / len(outliers) * 100) for col in sensor_columns}\n",
    "\n",
    "# Display the percentage of outliers for each sensor\n",
    "for col, percentage in outlier_summary.items():\n",
    "    print(f\"{col}: {percentage:.2f}% of readings are outliers.\")\n"
   ]
  },
  {
   "cell_type": "code",
   "execution_count": null,
   "id": "5cea2276",
   "metadata": {},
   "outputs": [],
   "source": []
  }
 ],
 "metadata": {
  "kernelspec": {
   "display_name": "Python 3 (ipykernel)",
   "language": "python",
   "name": "python3"
  },
  "language_info": {
   "codemirror_mode": {
    "name": "ipython",
    "version": 3
   },
   "file_extension": ".py",
   "mimetype": "text/x-python",
   "name": "python",
   "nbconvert_exporter": "python",
   "pygments_lexer": "ipython3",
   "version": "3.9.13"
  }
 },
 "nbformat": 4,
 "nbformat_minor": 5
}
