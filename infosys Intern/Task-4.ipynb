{
 "cells": [
  {
   "cell_type": "markdown",
   "id": "c68fffc4",
   "metadata": {},
   "source": [
    "# Import Libraries and Load the Dataset"
   ]
  },
  {
   "cell_type": "code",
   "execution_count": 1,
   "id": "0c49aedb",
   "metadata": {},
   "outputs": [
    {
     "data": {
      "text/html": [
       "<div>\n",
       "<style scoped>\n",
       "    .dataframe tbody tr th:only-of-type {\n",
       "        vertical-align: middle;\n",
       "    }\n",
       "\n",
       "    .dataframe tbody tr th {\n",
       "        vertical-align: top;\n",
       "    }\n",
       "\n",
       "    .dataframe thead th {\n",
       "        text-align: right;\n",
       "    }\n",
       "</style>\n",
       "<table border=\"1\" class=\"dataframe\">\n",
       "  <thead>\n",
       "    <tr style=\"text-align: right;\">\n",
       "      <th></th>\n",
       "      <th>Longitude</th>\n",
       "      <th>Latitude</th>\n",
       "      <th>Speed</th>\n",
       "      <th>Distance</th>\n",
       "      <th>Time</th>\n",
       "      <th>Acc X</th>\n",
       "      <th>Acc Y</th>\n",
       "      <th>Acc Z</th>\n",
       "      <th>Heading</th>\n",
       "      <th>gyro_x</th>\n",
       "      <th>gyro_y</th>\n",
       "      <th>gyro_z</th>\n",
       "      <th>label</th>\n",
       "    </tr>\n",
       "  </thead>\n",
       "  <tbody>\n",
       "    <tr>\n",
       "      <th>0</th>\n",
       "      <td>73.822661</td>\n",
       "      <td>18.501627</td>\n",
       "      <td>0.0</td>\n",
       "      <td>0.0</td>\n",
       "      <td>18-45-12</td>\n",
       "      <td>0.046402</td>\n",
       "      <td>-0.137178</td>\n",
       "      <td>-0.282934</td>\n",
       "      <td>352.0</td>\n",
       "      <td>-0.036306</td>\n",
       "      <td>-0.008226</td>\n",
       "      <td>-0.023416</td>\n",
       "      <td>0</td>\n",
       "    </tr>\n",
       "    <tr>\n",
       "      <th>1</th>\n",
       "      <td>73.822661</td>\n",
       "      <td>18.501627</td>\n",
       "      <td>0.0</td>\n",
       "      <td>0.0</td>\n",
       "      <td>18-45-12</td>\n",
       "      <td>-0.136978</td>\n",
       "      <td>0.365242</td>\n",
       "      <td>0.108889</td>\n",
       "      <td>352.0</td>\n",
       "      <td>0.035776</td>\n",
       "      <td>-0.009448</td>\n",
       "      <td>0.009570</td>\n",
       "      <td>0</td>\n",
       "    </tr>\n",
       "    <tr>\n",
       "      <th>2</th>\n",
       "      <td>73.822661</td>\n",
       "      <td>18.501627</td>\n",
       "      <td>0.0</td>\n",
       "      <td>0.0</td>\n",
       "      <td>18-45-13</td>\n",
       "      <td>-0.045355</td>\n",
       "      <td>-0.103340</td>\n",
       "      <td>-0.534985</td>\n",
       "      <td>352.0</td>\n",
       "      <td>-0.011871</td>\n",
       "      <td>-0.027774</td>\n",
       "      <td>0.003462</td>\n",
       "      <td>0</td>\n",
       "    </tr>\n",
       "    <tr>\n",
       "      <th>3</th>\n",
       "      <td>73.822661</td>\n",
       "      <td>18.501627</td>\n",
       "      <td>0.0</td>\n",
       "      <td>0.0</td>\n",
       "      <td>18-45-13</td>\n",
       "      <td>0.242089</td>\n",
       "      <td>0.072761</td>\n",
       "      <td>-0.350396</td>\n",
       "      <td>352.0</td>\n",
       "      <td>-0.017980</td>\n",
       "      <td>0.002769</td>\n",
       "      <td>-0.005091</td>\n",
       "      <td>0</td>\n",
       "    </tr>\n",
       "    <tr>\n",
       "      <th>4</th>\n",
       "      <td>73.822661</td>\n",
       "      <td>18.501627</td>\n",
       "      <td>0.0</td>\n",
       "      <td>0.0</td>\n",
       "      <td>18-45-13</td>\n",
       "      <td>-0.230234</td>\n",
       "      <td>0.011765</td>\n",
       "      <td>-0.494085</td>\n",
       "      <td>352.0</td>\n",
       "      <td>0.011342</td>\n",
       "      <td>0.003380</td>\n",
       "      <td>0.006516</td>\n",
       "      <td>0</td>\n",
       "    </tr>\n",
       "  </tbody>\n",
       "</table>\n",
       "</div>"
      ],
      "text/plain": [
       "   Longitude   Latitude  Speed  Distance      Time     Acc X     Acc Y  \\\n",
       "0  73.822661  18.501627    0.0       0.0  18-45-12  0.046402 -0.137178   \n",
       "1  73.822661  18.501627    0.0       0.0  18-45-12 -0.136978  0.365242   \n",
       "2  73.822661  18.501627    0.0       0.0  18-45-13 -0.045355 -0.103340   \n",
       "3  73.822661  18.501627    0.0       0.0  18-45-13  0.242089  0.072761   \n",
       "4  73.822661  18.501627    0.0       0.0  18-45-13 -0.230234  0.011765   \n",
       "\n",
       "      Acc Z  Heading    gyro_x    gyro_y    gyro_z  label  \n",
       "0 -0.282934    352.0 -0.036306 -0.008226 -0.023416      0  \n",
       "1  0.108889    352.0  0.035776 -0.009448  0.009570      0  \n",
       "2 -0.534985    352.0 -0.011871 -0.027774  0.003462      0  \n",
       "3 -0.350396    352.0 -0.017980  0.002769 -0.005091      0  \n",
       "4 -0.494085    352.0  0.011342  0.003380  0.006516      0  "
      ]
     },
     "execution_count": 1,
     "metadata": {},
     "output_type": "execute_result"
    }
   ],
   "source": [
    "# Import necessary libraries\n",
    "import pandas as pd\n",
    "import numpy as np\n",
    "from sklearn.ensemble import IsolationForest\n",
    "import matplotlib.pyplot as plt\n",
    "import seaborn as sns\n",
    "\n",
    "# Load the dataset\n",
    "data = pd.read_csv(\"C:\\\\Users\\\\kiran\\\\Desktop\\\\infosys Intern\\\\final_adjusted_crowd_dataset.csv\")\n",
    "\n",
    "# Specify sensor columns for anomaly detection\n",
    "sensor_columns = ['Acc X', 'Acc Y', 'Acc Z', 'gyro_x', 'gyro_y', 'gyro_z']\n",
    "\n",
    "# Display first few rows to verify loading\n",
    "data.head()\n"
   ]
  },
  {
   "cell_type": "markdown",
   "id": "72195759",
   "metadata": {},
   "source": [
    "# Implement Isolation Forest with Basic Parameters"
   ]
  },
  {
   "cell_type": "code",
   "execution_count": 3,
   "id": "35c192e5",
   "metadata": {},
   "outputs": [
    {
     "name": "stderr",
     "output_type": "stream",
     "text": [
      "C:\\Users\\kiran\\anaconda3\\lib\\site-packages\\sklearn\\base.py:450: UserWarning: X does not have valid feature names, but IsolationForest was fitted with feature names\n",
      "  warnings.warn(\n"
     ]
    },
    {
     "name": "stdout",
     "output_type": "stream",
     "text": [
      "Number of anomalies detected by Isolation Forest: 713\n"
     ]
    }
   ],
   "source": [
    "# Define sensor columns for isolation forest\n",
    "sensor_columns = ['Acc X', 'Acc Y', 'Acc Z', 'gyro_x', 'gyro_y', 'gyro_z']\n",
    "\n",
    "# Initialize Isolation Forest model with basic parameters\n",
    "isolation_forest = IsolationForest(contamination=0.05, random_state=42)\n",
    "\n",
    "# Fit model to sensor data and ensure using DataFrame with column names\n",
    "isolation_forest.fit(data[sensor_columns])\n",
    "\n",
    "# Predict anomalies on the same set of columns with feature names\n",
    "data['IsolationForest_Anomaly'] = isolation_forest.predict(data[sensor_columns])\n",
    "\n",
    "# Convert predictions to binary format: 1 = anomaly, 0 = normal\n",
    "data['IsolationForest_Anomaly'] = data['IsolationForest_Anomaly'].apply(lambda x: 1 if x == -1 else 0)\n",
    "\n",
    "# Display the number of anomalies detected\n",
    "print(\"Number of anomalies detected by Isolation Forest:\", data['IsolationForest_Anomaly'].sum())"
   ]
  },
  {
   "cell_type": "code",
   "execution_count": null,
   "id": "39381e13",
   "metadata": {},
   "outputs": [],
   "source": []
  }
 ],
 "metadata": {
  "kernelspec": {
   "display_name": "Python 3 (ipykernel)",
   "language": "python",
   "name": "python3"
  },
  "language_info": {
   "codemirror_mode": {
    "name": "ipython",
    "version": 3
   },
   "file_extension": ".py",
   "mimetype": "text/x-python",
   "name": "python",
   "nbconvert_exporter": "python",
   "pygments_lexer": "ipython3",
   "version": "3.9.13"
  }
 },
 "nbformat": 4,
 "nbformat_minor": 5
}
