{
 "cells": [
  {
   "cell_type": "markdown",
   "id": "f63bf122",
   "metadata": {},
   "source": [
    "# Import Necessary Libraries and Load Dataset"
   ]
  },
  {
   "cell_type": "code",
   "execution_count": 1,
   "id": "6bccc3f1",
   "metadata": {},
   "outputs": [
    {
     "data": {
      "text/html": [
       "<div>\n",
       "<style scoped>\n",
       "    .dataframe tbody tr th:only-of-type {\n",
       "        vertical-align: middle;\n",
       "    }\n",
       "\n",
       "    .dataframe tbody tr th {\n",
       "        vertical-align: top;\n",
       "    }\n",
       "\n",
       "    .dataframe thead th {\n",
       "        text-align: right;\n",
       "    }\n",
       "</style>\n",
       "<table border=\"1\" class=\"dataframe\">\n",
       "  <thead>\n",
       "    <tr style=\"text-align: right;\">\n",
       "      <th></th>\n",
       "      <th>Longitude</th>\n",
       "      <th>Latitude</th>\n",
       "      <th>Speed</th>\n",
       "      <th>Distance</th>\n",
       "      <th>Time</th>\n",
       "      <th>Acc X</th>\n",
       "      <th>Acc Y</th>\n",
       "      <th>Acc Z</th>\n",
       "      <th>Heading</th>\n",
       "      <th>gyro_x</th>\n",
       "      <th>gyro_y</th>\n",
       "      <th>gyro_z</th>\n",
       "      <th>label</th>\n",
       "    </tr>\n",
       "  </thead>\n",
       "  <tbody>\n",
       "    <tr>\n",
       "      <th>0</th>\n",
       "      <td>73.822661</td>\n",
       "      <td>18.501627</td>\n",
       "      <td>0.0</td>\n",
       "      <td>0.0</td>\n",
       "      <td>18-45-12</td>\n",
       "      <td>0.046402</td>\n",
       "      <td>-0.137178</td>\n",
       "      <td>-0.282934</td>\n",
       "      <td>352.0</td>\n",
       "      <td>-0.036306</td>\n",
       "      <td>-0.008226</td>\n",
       "      <td>-0.023416</td>\n",
       "      <td>0</td>\n",
       "    </tr>\n",
       "    <tr>\n",
       "      <th>1</th>\n",
       "      <td>73.822661</td>\n",
       "      <td>18.501627</td>\n",
       "      <td>0.0</td>\n",
       "      <td>0.0</td>\n",
       "      <td>18-45-12</td>\n",
       "      <td>-0.136978</td>\n",
       "      <td>0.365242</td>\n",
       "      <td>0.108889</td>\n",
       "      <td>352.0</td>\n",
       "      <td>0.035776</td>\n",
       "      <td>-0.009448</td>\n",
       "      <td>0.009570</td>\n",
       "      <td>0</td>\n",
       "    </tr>\n",
       "    <tr>\n",
       "      <th>2</th>\n",
       "      <td>73.822661</td>\n",
       "      <td>18.501627</td>\n",
       "      <td>0.0</td>\n",
       "      <td>0.0</td>\n",
       "      <td>18-45-13</td>\n",
       "      <td>-0.045355</td>\n",
       "      <td>-0.103340</td>\n",
       "      <td>-0.534985</td>\n",
       "      <td>352.0</td>\n",
       "      <td>-0.011871</td>\n",
       "      <td>-0.027774</td>\n",
       "      <td>0.003462</td>\n",
       "      <td>0</td>\n",
       "    </tr>\n",
       "    <tr>\n",
       "      <th>3</th>\n",
       "      <td>73.822661</td>\n",
       "      <td>18.501627</td>\n",
       "      <td>0.0</td>\n",
       "      <td>0.0</td>\n",
       "      <td>18-45-13</td>\n",
       "      <td>0.242089</td>\n",
       "      <td>0.072761</td>\n",
       "      <td>-0.350396</td>\n",
       "      <td>352.0</td>\n",
       "      <td>-0.017980</td>\n",
       "      <td>0.002769</td>\n",
       "      <td>-0.005091</td>\n",
       "      <td>0</td>\n",
       "    </tr>\n",
       "    <tr>\n",
       "      <th>4</th>\n",
       "      <td>73.822661</td>\n",
       "      <td>18.501627</td>\n",
       "      <td>0.0</td>\n",
       "      <td>0.0</td>\n",
       "      <td>18-45-13</td>\n",
       "      <td>-0.230234</td>\n",
       "      <td>0.011765</td>\n",
       "      <td>-0.494085</td>\n",
       "      <td>352.0</td>\n",
       "      <td>0.011342</td>\n",
       "      <td>0.003380</td>\n",
       "      <td>0.006516</td>\n",
       "      <td>0</td>\n",
       "    </tr>\n",
       "  </tbody>\n",
       "</table>\n",
       "</div>"
      ],
      "text/plain": [
       "   Longitude   Latitude  Speed  Distance      Time     Acc X     Acc Y  \\\n",
       "0  73.822661  18.501627    0.0       0.0  18-45-12  0.046402 -0.137178   \n",
       "1  73.822661  18.501627    0.0       0.0  18-45-12 -0.136978  0.365242   \n",
       "2  73.822661  18.501627    0.0       0.0  18-45-13 -0.045355 -0.103340   \n",
       "3  73.822661  18.501627    0.0       0.0  18-45-13  0.242089  0.072761   \n",
       "4  73.822661  18.501627    0.0       0.0  18-45-13 -0.230234  0.011765   \n",
       "\n",
       "      Acc Z  Heading    gyro_x    gyro_y    gyro_z  label  \n",
       "0 -0.282934    352.0 -0.036306 -0.008226 -0.023416      0  \n",
       "1  0.108889    352.0  0.035776 -0.009448  0.009570      0  \n",
       "2 -0.534985    352.0 -0.011871 -0.027774  0.003462      0  \n",
       "3 -0.350396    352.0 -0.017980  0.002769 -0.005091      0  \n",
       "4 -0.494085    352.0  0.011342  0.003380  0.006516      0  "
      ]
     },
     "execution_count": 1,
     "metadata": {},
     "output_type": "execute_result"
    }
   ],
   "source": [
    "# Import necessary libraries\n",
    "import pandas as pd\n",
    "import matplotlib.pyplot as plt\n",
    "\n",
    "# Load the dataset\n",
    "data = pd.read_csv(\"C:\\\\Users\\\\kiran\\\\Desktop\\\\infosys Intern\\\\final_adjusted_crowd_dataset.csv\") \n",
    "# Specify the sensor columns to analyze\n",
    "sensor_columns = ['Acc X', 'Acc Y', 'Acc Z', 'gyro_x', 'gyro_y', 'gyro_z']\n",
    "\n",
    "# Display the first few rows to confirm loading\n",
    "data.head()\n"
   ]
  },
  {
   "cell_type": "markdown",
   "id": "20232fca",
   "metadata": {},
   "source": [
    "# Calculate IQR and Fine-Tune Thresholds Using Tukey’s Method"
   ]
  },
  {
   "cell_type": "code",
   "execution_count": 2,
   "id": "d428622e",
   "metadata": {},
   "outputs": [
    {
     "name": "stdout",
     "output_type": "stream",
     "text": [
      "Acc X: Q1 = -0.37937883, Q3 = 0.3624705, IQR = 0.74184933\n",
      "Acc Y: Q1 = -0.12676811, Q3 = 0.47869587, IQR = 0.60546398\n",
      "Acc Z: Q1 = -0.7013532, Q3 = 0.67468005, IQR = 1.3760332499999999\n",
      "gyro_x: Q1 = -0.046690468, Q3 = 0.04493932, IQR = 0.09162978799999999\n",
      "gyro_y: Q1 = -0.033271793, Q3 = 0.021706078, IQR = 0.054977871\n",
      "gyro_z: Q1 = -0.027224237, Q3 = 0.024088446, IQR = 0.051312683\n"
     ]
    }
   ],
   "source": [
    "# Task-3: Define a more robust IQR multiplier (e.g., 2.5 for Tukey's method)\n",
    "iqr_multiplier = 2.5\n",
    "iqr_info = {}  # To store Q1, Q3, and IQR values for each sensor\n",
    "refined_outliers = pd.DataFrame(index=data.index)  # To store refined outliers\n",
    "\n",
    "# Calculate refined bounds for each sensor column\n",
    "for col in sensor_columns:\n",
    "    Q1 = data[col].quantile(0.25)\n",
    "    Q3 = data[col].quantile(0.75)\n",
    "    IQR = Q3 - Q1\n",
    "    iqr_info[col] = {'Q1': Q1, 'Q3': Q3, 'IQR': IQR}\n",
    "    \n",
    "    # Define refined bounds with Tukey's method\n",
    "    lower_bound = Q1 - iqr_multiplier * IQR\n",
    "    upper_bound = Q3 + iqr_multiplier * IQR\n",
    "    \n",
    "    # Flag outliers using refined bounds\n",
    "    refined_outliers[col] = ((data[col] < lower_bound) | (data[col] > upper_bound)).astype(int)\n",
    "\n",
    "# Display IQR, Q1, and Q3 values for each sensor\n",
    "for sensor, values in iqr_info.items():\n",
    "    print(f\"{sensor}: Q1 = {values['Q1']}, Q3 = {values['Q3']}, IQR = {values['IQR']}\")\n"
   ]
  },
  {
   "cell_type": "markdown",
   "id": "e42518c4",
   "metadata": {},
   "source": [
    "# Calculate and Compare Outlier Counts"
   ]
  },
  {
   "cell_type": "code",
   "execution_count": 3,
   "id": "af509ebf",
   "metadata": {},
   "outputs": [
    {
     "name": "stdout",
     "output_type": "stream",
     "text": [
      "\n",
      "Refined IQR Outlier Summary (using multiplier of 2.5):\n",
      "Acc X: 4.76% of readings are outliers.\n",
      "Acc Y: 4.84% of readings are outliers.\n",
      "Acc Z: 4.04% of readings are outliers.\n",
      "gyro_x: 6.15% of readings are outliers.\n",
      "gyro_y: 6.31% of readings are outliers.\n",
      "gyro_z: 4.37% of readings are outliers.\n"
     ]
    }
   ],
   "source": [
    "# Calculate the percentage of outliers for each sensor using refined IQR\n",
    "refined_outlier_summary = {col: (refined_outliers[col].sum() / len(refined_outliers) * 100) for col in sensor_columns}\n",
    "\n",
    "# Display the outlier summary for refined IQR\n",
    "print(\"\\nRefined IQR Outlier Summary (using multiplier of 2.5):\")\n",
    "for col, percentage in refined_outlier_summary.items():\n",
    "    print(f\"{col}: {percentage:.2f}% of readings are outliers.\")\n"
   ]
  },
  {
   "cell_type": "markdown",
   "id": "21186083",
   "metadata": {},
   "source": [
    "# Visualize Outliers with Box Plots"
   ]
  },
  {
   "cell_type": "code",
   "execution_count": 4,
   "id": "d01fdec6",
   "metadata": {},
   "outputs": [
    {
     "data": {
      "image/png": "[encoded data removed]",
      "text/plain": [
       "<Figure size 1200x800 with 6 Axes>"
      ]
     },
     "metadata": {},
     "output_type": "display_data"
    }
   ],
   "source": [
    "# Set up box plots for each sensor column to visualize refined outliers\n",
    "plt.figure(figsize=(12, 8))\n",
    "for i, col in enumerate(sensor_columns, 1):\n",
    "    plt.subplot(2, 3, i)\n",
    "    plt.boxplot(data[col], vert=False, showfliers=True)\n",
    "    plt.title(f'{col} - Refined IQR Outliers')\n",
    "    plt.xlabel('Reading')\n",
    "\n",
    "plt.tight_layout()\n",
    "plt.show()"
   ]
  },
  {
   "cell_type": "code",
   "execution_count": null,
   "id": "82bf875b",
   "metadata": {},
   "outputs": [],
   "source": []
  }
 ],
 "metadata": {
  "kernelspec": {
   "display_name": "Python 3 (ipykernel)",
   "language": "python",
   "name": "python3"
  },
  "language_info": {
   "codemirror_mode": {
    "name": "ipython",
    "version": 3
   },
   "file_extension": ".py",
   "mimetype": "text/x-python",
   "name": "python",
   "nbconvert_exporter": "python",
   "pygments_lexer": "ipython3",
   "version": "3.9.13"
  }
 },
 "nbformat": 4,
 "nbformat_minor": 5
}
